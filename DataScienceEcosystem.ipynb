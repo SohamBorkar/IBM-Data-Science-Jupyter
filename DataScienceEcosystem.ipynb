{
 "cells": [
  {
   "cell_type": "markdown",
   "id": "1efde9f2-ed8b-4ad3-8bc4-63c060963b2c",
   "metadata": {
    "tags": []
   },
   "source": [
    "<center>\n",
    "    <img src=\"https://cf-courses-data.s3.us.cloud-object-storage.appdomain.cloud/IBMDeveloperSkillsNetwork-DS0105EN-SkillsNetwork/labs/Module2/images/SN_web_lightmode.png\" width=\"300\" alt=\"cognitiveclass.ai logo\">\n",
    "</center>\n"
   ]
  },
  {
   "cell_type": "markdown",
   "id": "ab831d8d-71e3-4c3c-8f22-3315a9b00231",
   "metadata": {
    "tags": []
   },
   "source": [
    "# H1 : Data Science Tools and Ecosystem"
   ]
  },
  {
   "cell_type": "markdown",
   "id": "ba71181e-42bf-450b-b399-b9bdccaafb5d",
   "metadata": {},
   "source": [
    "In this notebooks Data Science Tools and Ecosystem are summarized."
   ]
  },
  {
   "cell_type": "markdown",
   "id": "280175cf-3a03-4a58-b755-1503872e0b09",
   "metadata": {
    "tags": []
   },
   "source": [
    "***Objectives***  \n",
    "\n",
    "- List popular languages Data Scientists use.\n",
    "- List commonly libraries Data Scientists use.\n",
    "- List data science tools Data Scientists use."
   ]
  },
  {
   "cell_type": "markdown",
   "id": "ee0fa272-69c8-4630-9946-8c64699a70d7",
   "metadata": {},
   "source": [
    "Some of the popular languages that Data Scientists use are:\n",
    "1. Python\n",
    "2. R\n",
    "3. Scala\n",
    "4. Java"
   ]
  },
  {
   "cell_type": "markdown",
   "id": "9696e6bb-fb99-4ded-b7bd-aa865deb799b",
   "metadata": {},
   "source": [
    "Some of the commonly used libraries used by Data Scientists include:\n",
    "- NumPy\n",
    "- Pandas\n",
    "- Matplotlib\n",
    "- Scikit-learn\n",
    "- TensorFlow\n",
    "- Keras\n",
    "- PyTorch\n",
    "-Seaborn\n",
    "- SciPy\n",
    "- Statsmodels"
   ]
  },
  {
   "cell_type": "markdown",
   "id": "482dad6f-295b-48b6-8862-5ead28dac6e1",
   "metadata": {
    "tags": []
   },
   "source": [
    "| Data Science Tools |\n",
    "| -----------------|\n",
    "| Google Colab |\n",
    "| Jupyter notebook |\n",
    "| Spyder |\n",
    "| Visiual Studio Code |"
   ]
  },
  {
   "cell_type": "markdown",
   "id": "96459f47-3765-4f2a-875b-aa0af974ade2",
   "metadata": {
    "tags": []
   },
   "source": [
    "### Below are a few examples of evaluating arithmetic expressions in Python."
   ]
  },
  {
   "cell_type": "code",
   "execution_count": 1,
   "id": "467125da-34b8-49cc-828b-2d6a4a73d47a",
   "metadata": {
    "tags": []
   },
   "outputs": [
    {
     "name": "stdout",
     "output_type": "stream",
     "text": [
      "17\n"
     ]
    }
   ],
   "source": [
    "# This is simple arithmatic expression to mutipLy then add integers.\n",
    "a = (3*4)+5\n",
    "print(a)"
   ]
  },
  {
   "cell_type": "code",
   "execution_count": 2,
   "id": "162c3070-a81b-4f98-833f-c6ba5f996110",
   "metadata": {
    "tags": []
   },
   "outputs": [
    {
     "name": "stdout",
     "output_type": "stream",
     "text": [
      "3.3333333333333335\n"
     ]
    }
   ],
   "source": [
    "# This will convert 200 miniutes to hours by dividing by 60.\n",
    "print(200/60)"
   ]
  },
  {
   "cell_type": "markdown",
   "id": "d4508eb3-e28b-4783-b7a2-3a0dc20713ce",
   "metadata": {},
   "source": [
    "## Author\n",
    "Soham Borkar "
   ]
  },
  {
   "cell_type": "code",
   "execution_count": null,
   "id": "d784fad3-ff5d-448a-a9b5-26d0a7492d8a",
   "metadata": {},
   "outputs": [],
   "source": []
  }
 ],
 "metadata": {
  "kernelspec": {
   "display_name": "Python",
   "language": "python",
   "name": "conda-env-python-py"
  },
  "language_info": {
   "codemirror_mode": {
    "name": "ipython",
    "version": 3
   },
   "file_extension": ".py",
   "mimetype": "text/x-python",
   "name": "python",
   "nbconvert_exporter": "python",
   "pygments_lexer": "ipython3",
   "version": "3.7.12"
  }
 },
 "nbformat": 4,
 "nbformat_minor": 5
}
